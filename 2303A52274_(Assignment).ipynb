{
  "nbformat": 4,
  "nbformat_minor": 0,
  "metadata": {
    "colab": {
      "provenance": [],
      "authorship_tag": "ABX9TyNVSCF3vBy6MSkR4NgJA72G",
      "include_colab_link": true
    },
    "kernelspec": {
      "name": "python3",
      "display_name": "Python 3"
    },
    "language_info": {
      "name": "python"
    }
  },
  "cells": [
    {
      "cell_type": "markdown",
      "metadata": {
        "id": "view-in-github",
        "colab_type": "text"
      },
      "source": [
        "<a href=\"https://colab.research.google.com/github/2303a52274/srinivasreddy/blob/main/2303A52274_(Assignment).ipynb\" target=\"_parent\"><img src=\"https://colab.research.google.com/assets/colab-badge.svg\" alt=\"Open In Colab\"/></a>"
      ]
    },
    {
      "cell_type": "code",
      "execution_count": 1,
      "metadata": {
        "colab": {
          "base_uri": "https://localhost:8080/"
        },
        "id": "zfAkk1CxRrqB",
        "outputId": "82c3a396-666b-4083-f3be-170aa275176f"
      },
      "outputs": [
        {
          "output_type": "stream",
          "name": "stdout",
          "text": [
            "[1 2 3 4 5]\n"
          ]
        }
      ],
      "source": [
        "import numpy as np\n",
        "arr=np.array([1,2,3,4,5])\n",
        "print(arr)"
      ]
    },
    {
      "cell_type": "code",
      "source": [
        "import numpy as np\n",
        "import pandas as pd\n",
        "list=np.array([1,2,3,4,5])\n",
        "list=pd.array([1,2,3,4,5])\n",
        "print(list)\n"
      ],
      "metadata": {
        "colab": {
          "base_uri": "https://localhost:8080/"
        },
        "id": "j1S-P9GsR7UM",
        "outputId": "0cbb7dce-ba59-4ae5-8705-498272d45533"
      },
      "execution_count": 2,
      "outputs": [
        {
          "output_type": "stream",
          "name": "stdout",
          "text": [
            "<IntegerArray>\n",
            "[1, 2, 3, 4, 5]\n",
            "Length: 5, dtype: Int64\n"
          ]
        }
      ]
    },
    {
      "cell_type": "code",
      "source": [
        "list1=np.array([1,2,3,4])\n",
        "list2=np.array([2,4,6,8])\n",
        "mul=(list1*list2)\n",
        "print(mul)\n",
        "div=list1/list2\n",
        "print(div)\n",
        "print(np.power(list1,list2))\n",
        "print(list1+list2)"
      ],
      "metadata": {
        "colab": {
          "base_uri": "https://localhost:8080/"
        },
        "id": "QMea1p6QSIsx",
        "outputId": "62c58a27-044c-4c16-ac20-de7fde883407"
      },
      "execution_count": 3,
      "outputs": [
        {
          "output_type": "stream",
          "name": "stdout",
          "text": [
            "[ 2  8 18 32]\n",
            "[0.5 0.5 0.5 0.5]\n",
            "[    1    16   729 65536]\n",
            "[ 3  6  9 12]\n"
          ]
        }
      ]
    },
    {
      "cell_type": "code",
      "source": [
        "print(np.sin(2))\n",
        "print(np.log(2))\n",
        "print(np.log2(2))\n",
        "print(np.exp(2))\n"
      ],
      "metadata": {
        "colab": {
          "base_uri": "https://localhost:8080/"
        },
        "id": "iOo_MiZISQIW",
        "outputId": "983608d6-07b4-44d0-e5b0-4c9b1c603040"
      },
      "execution_count": 4,
      "outputs": [
        {
          "output_type": "stream",
          "name": "stdout",
          "text": [
            "0.9092974268256817\n",
            "0.6931471805599453\n",
            "1.0\n",
            "7.38905609893065\n"
          ]
        }
      ]
    }
  ]
}